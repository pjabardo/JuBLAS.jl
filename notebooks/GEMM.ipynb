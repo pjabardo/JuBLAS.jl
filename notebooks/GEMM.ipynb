{
 "cells": [
  {
   "cell_type": "markdown",
   "metadata": {},
   "source": [
    "# GEMM"
   ]
  },
  {
   "cell_type": "code",
   "execution_count": 112,
   "metadata": {
    "collapsed": false
   },
   "outputs": [
    {
     "name": "stderr",
     "output_type": "stream",
     "text": [
      "WARNING: replacing module JuBLAS\n"
     ]
    },
    {
     "data": {
      "text/plain": [
       "JuBLAS"
      ]
     },
     "execution_count": 112,
     "metadata": {},
     "output_type": "execute_result"
    }
   ],
   "source": [
    "include(\"../src/JuBLAS.jl\")"
   ]
  },
  {
   "cell_type": "code",
   "execution_count": 113,
   "metadata": {
    "collapsed": false
   },
   "outputs": [
    {
     "data": {
      "text/plain": [
       "5x5 Array{Float64,2}:\n",
       " 0.0  0.0  0.0  0.0  0.0\n",
       " 0.0  0.0  0.0  0.0  0.0\n",
       " 0.0  0.0  0.0  0.0  0.0\n",
       " 0.0  0.0  0.0  0.0  0.0\n",
       " 0.0  0.0  0.0  0.0  0.0"
      ]
     },
     "execution_count": 113,
     "metadata": {},
     "output_type": "execute_result"
    }
   ],
   "source": [
    "A = randn(5,5)\n",
    "B = randn(5,5)\n",
    "C = zeros(5,5)\n"
   ]
  },
  {
   "cell_type": "code",
   "execution_count": 114,
   "metadata": {
    "collapsed": false
   },
   "outputs": [
    {
     "name": "stdout",
     "output_type": "stream",
     "text": [
      "0.0\n",
      "0.0\n",
      "0.0\n",
      "0.0\n",
      "2.2737367544323206e-13\n",
      "1.8189894035458565e-12\n",
      "0.0\n",
      "1.8189894035458565e-12\n",
      "0.0\n"
     ]
    }
   ],
   "source": [
    "println(maxabs(A*B - JuBLAS.gemm('N', 'N', 1.0, A, B)))\n",
    "\n",
    "println(maxabs(A'*B - JuBLAS.gemm('T', 'N', 1.0, A, B)))\n",
    "\n",
    "println(maxabs(A'*B' - JuBLAS.gemm('T', 'T', 1.0, A, B)))\n",
    "\n",
    "println(maxabs(A*B' - JuBLAS.gemm('N', 'T', 1.0, A, B)))\n",
    "\n",
    "\n",
    "C = 1000*ones(5,5)\n",
    "\n",
    "C0 = copy(C)\n",
    "println(maxabs(2*A*B +C - JuBLAS.gemm!('N', 'N', 2.0, A, B, 1.0, C0)))\n",
    "\n",
    "\n",
    "C0 = copy(C)\n",
    "println(maxabs(2*A*B +10*C - JuBLAS.gemm!('N', 'N', 2.0, A, B, 10, C0)))\n",
    "\n",
    "C0 = copy(C)\n",
    "println(maxabs(2*A'*B +10*C - JuBLAS.gemm!('T', 'N', 2.0, A, B, 10, C0)))\n",
    "\n",
    "C0 = copy(C)\n",
    "println(maxabs(2*A*B' +10*C - JuBLAS.gemm!('N', 'T', 2.0, A, B, 10, C0)))\n",
    "\n",
    "C0 = copy(C)\n",
    "println(maxabs(2*A'*B' +10*C - JuBLAS.gemm!('T', 'T', 2.0, A, B, 10, C0)))\n",
    "\n"
   ]
  },
  {
   "cell_type": "code",
   "execution_count": 115,
   "metadata": {
    "collapsed": false
   },
   "outputs": [
    {
     "data": {
      "text/plain": [
       "randncmplx (generic function with 1 method)"
      ]
     },
     "execution_count": 115,
     "metadata": {},
     "output_type": "execute_result"
    }
   ],
   "source": [
    "randncmplx(n,m) = randn(n, m) + im*randn(n, m)"
   ]
  },
  {
   "cell_type": "code",
   "execution_count": 116,
   "metadata": {
    "collapsed": false
   },
   "outputs": [
    {
     "name": "stdout",
     "output_type": "stream",
     "text": [
      "1.2560739669470201e-15\n",
      "1.9860273225978185e-15\n",
      "1.7763568394002505e-15\n",
      "1.2560739669470201e-15\n",
      "8.881784197001252e-16\n",
      "9.930136612989092e-16\n",
      "9.930136612989092e-16\n",
      "2.273806142312601e-13\n",
      "2.2737757853755275e-13\n",
      "3.552713678800501e-15\n",
      "2.273806142312601e-13\n",
      "4.54749302446187e-13\n",
      "1.7763568394002505e-15\n",
      "1.7763568394002505e-15\n"
     ]
    }
   ],
   "source": [
    "A = randncmplx(5,5)\n",
    "B = randncmplx(5,5)\n",
    "\n",
    "\n",
    "println(maxabs(A*B - JuBLAS.gemm('N', 'N', 1, A, B)))\n",
    "println(maxabs(A'*B - JuBLAS.gemm('C', 'N', 1, A, B)))\n",
    "println(maxabs(transpose(A)*B - JuBLAS.gemm('T', 'N', 1, A, B)))\n",
    "println(maxabs(A*B' - JuBLAS.gemm('N', 'C', 1, A, B)))\n",
    "println(maxabs(A*transpose(B) - JuBLAS.gemm('N', 'T', 1, A, B)))\n",
    "println(maxabs(transpose(A)*transpose(B) - JuBLAS.gemm('T', 'T', 1, A, B)))\n",
    "println(maxabs(ctranspose(A)*ctranspose(B) - JuBLAS.gemm('C', 'C', 1, A, B)))\n",
    "\n",
    "\n",
    "C = 1000*ones(Complex{Float64}, 5, 5)\n",
    "C0 = copy(C)\n",
    "println(maxabs(2*A*B + 2*C- JuBLAS.gemm!('N', 'N', 2, A, B, 2, C0)))\n",
    "\n",
    "C0 = copy(C)\n",
    "println(maxabs(2*A'*B +2*C - JuBLAS.gemm!('C', 'N', 2, A, B, 2, C0)))\n",
    "\n",
    "C0 = copy(C)\n",
    "println(maxabs(2*transpose(A)*B + 0*C - JuBLAS.gemm!('T', 'N', 2, A, B, 0, C0)))\n",
    "\n",
    "C0 = copy(C)\n",
    "println(maxabs(2*A*B' + 2*C - JuBLAS.gemm!('N', 'C', 2, A, B, 2, C0)))\n",
    "\n",
    "C0 = copy(C)\n",
    "println(maxabs(2*A*transpose(B) + 2*C - JuBLAS.gemm!('N', 'T', 2, A, B, 2, C0)))\n",
    "\n",
    "C0 = copy(C)\n",
    "println(maxabs(2*transpose(A)*transpose(B) + 2*C - JuBLAS.gemm!('T', 'T', 2, A, B, 2, C0)))\n",
    "\n",
    "C0 = copy(C)\n",
    "println(maxabs(2*ctranspose(A)*ctranspose(B) + 2*C - JuBLAS.gemm!('C', 'C', 2, A, B, 2, C0)))"
   ]
  },
  {
   "cell_type": "code",
   "execution_count": 125,
   "metadata": {
    "collapsed": false,
    "scrolled": true
   },
   "outputs": [
    {
     "name": "stdout",
     "output_type": "stream",
     "text": [
      "2.273806142312601e-13\n",
      "2.2737410912368746e-13\n",
      "2.2737410912368746e-13\n",
      "8.881784197001252e-16\n",
      "8.881784197001252e-16\n",
      "2.273892874185396e-13\n",
      "4.547508203201813e-13\n"
     ]
    }
   ],
   "source": [
    "A = randncmplx(3,5)\n",
    "B = randncmplx(5,3)\n",
    "\n",
    "C = 1000*ones(Complex{Float64}, 3, 3)\n",
    "C0 = copy(C)\n",
    "println(maxabs(2*A*B + 2*C- JuBLAS.gemm!('N', 'N', 2, A, B, 2, C0)))\n",
    "\n",
    "C = 1000*ones(Complex{Float64}, 5, 5)\n",
    "C0 = copy(C)\n",
    "println(maxabs(2*A'*B' + 2*C- JuBLAS.gemm!('C', 'C', 2, A, B, 2, C0)))\n",
    "\n",
    "C = 1000*ones(Complex{Float64}, 5, 5)\n",
    "C0 = copy(C)\n",
    "println(maxabs(2*transpose(A)*transpose(B) + 2*C- JuBLAS.gemm!('T', 'T', 2, A, B, 2, C0)))\n",
    "\n",
    "\n",
    "A = randncmplx(3,5)\n",
    "B = randncmplx(3,6)\n",
    "C = 1000*ones(Complex{Float64}, 5, 6)\n",
    "C0 = copy(C)\n",
    "println(maxabs(2*A'*B + 2*C- JuBLAS.gemm!('C', 'N', 2, A, B, 2, C0)))\n",
    "\n",
    "C = 1000*ones(Complex{Float64}, 5, 6)\n",
    "C0 = copy(C)\n",
    "println(maxabs(2*transpose(A)*B + 2*C- JuBLAS.gemm!('T', 'N', 2, A, B, 2, C0)))\n",
    "\n",
    "A = randncmplx(3,5)\n",
    "B = randncmplx(6,5)\n",
    "C = 1000*ones(Complex{Float64}, 3, 6)\n",
    "C0 = copy(C)\n",
    "println(maxabs(2*A*B' + 2*C- JuBLAS.gemm!('N', 'C', 2, A, B, 2, C0)))\n",
    "C0 = copy(C)\n",
    "println(maxabs(2*A*transpose(B) + 2*C- JuBLAS.gemm!('N', 'T', 2, A, B, 2, C0)))\n",
    "\n"
   ]
  },
  {
   "cell_type": "code",
   "execution_count": null,
   "metadata": {
    "collapsed": true
   },
   "outputs": [],
   "source": []
  }
 ],
 "metadata": {
  "kernelspec": {
   "display_name": "Julia 0.4.5",
   "language": "julia",
   "name": "julia-0.4"
  },
  "language_info": {
   "file_extension": ".jl",
   "mimetype": "application/julia",
   "name": "julia",
   "version": "0.4.5"
  }
 },
 "nbformat": 4,
 "nbformat_minor": 0
}
